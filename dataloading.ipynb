{
  "nbformat": 4,
  "nbformat_minor": 0,
  "metadata": {
    "colab": {
      "provenance": [],
      "authorship_tag": "ABX9TyN/jQbBT6Vrp534oowsrKdD",
      "include_colab_link": true
    },
    "kernelspec": {
      "name": "python3",
      "display_name": "Python 3"
    },
    "language_info": {
      "name": "python"
    }
  },
  "cells": [
    {
      "cell_type": "markdown",
      "metadata": {
        "id": "view-in-github",
        "colab_type": "text"
      },
      "source": [
        "<a href=\"https://colab.research.google.com/github/SUDHARSAN270/Machine_learning/blob/main/dataloading.ipynb\" target=\"_parent\"><img src=\"https://colab.research.google.com/assets/colab-badge.svg\" alt=\"Open In Colab\"/></a>"
      ]
    },
    {
      "cell_type": "code",
      "source": [
        "\n",
        "import os\n",
        "import torch\n",
        "import torch.nn as nn\n",
        "import torch.optim as  optim\n",
        "from PIL import Image\n",
        "from torch.utils.data import dataset\n",
        "from torchvision import transforms\n"
      ],
      "metadata": {
        "id": "G3dN410E6VFn"
      },
      "execution_count": 15,
      "outputs": []
    },
    {
      "cell_type": "code",
      "source": [
        "class galaxydataset(dataset):\n",
        "  def __init__(self,root_dir ,transform = None):\n",
        "    self.root_dir = root_dir\n",
        "    self.transfrom =transform\n",
        "    self.classess = os.listdir(root_dir)\n",
        "    self.image_path=[]\n",
        "    self.labels=[]\n",
        "    for idx,class_name in enumerate(self.classess):\n",
        "      class_dir = os.path.join(root_dir, class_name)\n",
        "      for image_name in os.listdir(class_dir):\n",
        "        self.image_path.append(os.path.join(class_dir , class_name))\n",
        "        self.labels.append(idx)\n",
        "\n",
        "  def __len__(self):\n",
        "    return len(self.image_path)\n",
        "\n",
        "  def __getitem__(self,idx):\n",
        "    image_path = self.image_path[idx]\n",
        "    image = Image.open(image_path)\n",
        "    image = self.transform(image)\n",
        "    label = self.labels[idx]\n",
        "    if self.transform:\n",
        "      image = self.transform(image)\n",
        "    return image.label"
      ],
      "metadata": {
        "id": "vVqHAzlAJW2S"
      },
      "execution_count": null,
      "outputs": []
    },
    {
      "cell_type": "code",
      "source": [
        "transform = transforms.compose([\n",
        "    transforms.Resize((224,224)),\n",
        "    transforms.ToTensor(),\n",
        "     transforms.Normalize((0.5, 0.5, 0.5), (0.5, 0.5, 0.5))\n",
        "])"
      ],
      "metadata": {
        "id": "Hh9Nr5W8Uy3z"
      },
      "execution_count": null,
      "outputs": []
    }
  ]
}