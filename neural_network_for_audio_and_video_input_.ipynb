{
  "nbformat": 4,
  "nbformat_minor": 0,
  "metadata": {
    "colab": {
      "provenance": [],
      "authorship_tag": "ABX9TyM0DgHXebKlxtkmQKL+ccLH",
      "include_colab_link": true
    },
    "kernelspec": {
      "name": "python3",
      "display_name": "Python 3"
    },
    "language_info": {
      "name": "python"
    }
  },
  "cells": [
    {
      "cell_type": "markdown",
      "metadata": {
        "id": "view-in-github",
        "colab_type": "text"
      },
      "source": [
        "<a href=\"https://colab.research.google.com/github/SUDHARSAN270/Machine_learning/blob/main/neural_network_for_audio_and_video_input_.ipynb\" target=\"_parent\"><img src=\"https://colab.research.google.com/assets/colab-badge.svg\" alt=\"Open In Colab\"/></a>"
      ]
    },
    {
      "cell_type": "code",
      "source": [
        "import torch\n",
        "import numpy\n",
        "import matplotlib\n"
      ],
      "metadata": {
        "id": "r3XHbzY4rKek"
      },
      "execution_count": 2,
      "outputs": []
    },
    {
      "cell_type": "code",
      "source": [
        "tensors = torch.ones(3)\n",
        "print(tensors)\n",
        "\n",
        "points = torch.tensor([[4.0,1.0],\n",
        "                       [2.0,6.0],\n",
        "                       [8.0,6.3]])\n",
        "print(points)"
      ],
      "metadata": {
        "colab": {
          "base_uri": "https://localhost:8080/"
        },
        "id": "OKD8or8A9x8l",
        "outputId": "ac7f17ac-9eeb-453b-b7cc-dc18888779fc"
      },
      "execution_count": 5,
      "outputs": [
        {
          "output_type": "stream",
          "name": "stdout",
          "text": [
            "tensor([1., 1., 1.])\n",
            "tensor([[4.0000, 1.0000],\n",
            "        [2.0000, 6.0000],\n",
            "        [8.0000, 6.3000]])\n"
          ]
        }
      ]
    },
    {
      "cell_type": "code",
      "source": [
        "order = torch.zeros(3,5,5)\n",
        "orders = torch.tensor(order)\n",
        "order_named = orders.refine_names(...,'channels','rows','columns')\n",
        "print(order_named.shape,order_named.names)"
      ],
      "metadata": {
        "colab": {
          "base_uri": "https://localhost:8080/"
        },
        "id": "SaT21n9EAT03",
        "outputId": "c7ba7680-3f4a-4e27-dc51-548b982b0c63"
      },
      "execution_count": 13,
      "outputs": [
        {
          "output_type": "stream",
          "name": "stdout",
          "text": [
            "torch.Size([3, 5, 5]) ('channels', 'rows', 'columns')\n"
          ]
        },
        {
          "output_type": "stream",
          "name": "stderr",
          "text": [
            "<ipython-input-13-d38ccfcbb1b0>:2: UserWarning: To copy construct from a tensor, it is recommended to use sourceTensor.clone().detach() or sourceTensor.clone().detach().requires_grad_(True), rather than torch.tensor(sourceTensor).\n",
            "  orders = torch.tensor(order)\n"
          ]
        }
      ]
    },
    {
      "cell_type": "code",
      "source": [],
      "metadata": {
        "id": "1QXGfLbaKRhY"
      },
      "execution_count": null,
      "outputs": []
    }
  ]
}