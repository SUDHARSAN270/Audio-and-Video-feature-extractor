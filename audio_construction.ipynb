{
  "cells": [
    {
      "cell_type": "markdown",
      "metadata": {
        "id": "view-in-github",
        "colab_type": "text"
      },
      "source": [
        "<a href=\"https://colab.research.google.com/github/SUDHARSAN270/Machine_learning/blob/main/audio_construction.ipynb\" target=\"_parent\"><img src=\"https://colab.research.google.com/assets/colab-badge.svg\" alt=\"Open In Colab\"/></a>"
      ]
    },
    {
      "cell_type": "code",
      "source": [
        "import torch\n",
        "import torch.optim as optim\n",
        "import torch.nn as nn\n",
        "from torch.utils.data import Dataset, DataLoader, TensorDataset\n",
        "import torchaudio\n",
        "import torchaudio.transforms as transforms"
      ],
      "metadata": {
        "id": "Hod4P2vwo3fA"
      },
      "execution_count": 9,
      "outputs": []
    },
    {
      "cell_type": "code",
      "source": [
        "train_dataset = torchaudio.datasets.LIBRISPEECH(\n",
        "    root='/media',\n",
        "    url='train-clean-100',\n",
        "    download=True\n",
        ")"
      ],
      "metadata": {
        "id": "tFkoTfOCLJUH",
        "outputId": "22ccc73b-62cc-4cc0-ff5b-6f8baa9bf6e7",
        "colab": {
          "base_uri": "https://localhost:8080/"
        }
      },
      "execution_count": 4,
      "outputs": [
        {
          "output_type": "stream",
          "name": "stderr",
          "text": [
            "100%|██████████| 5.95G/5.95G [05:21<00:00, 19.9MB/s]\n"
          ]
        }
      ]
    },
    {
      "cell_type": "code",
      "source": [
        "# Define a transform to apply to the audio data\n",
        "transform = transforms.MelSpectrogram(\n",
        "    sample_rate=16000, n_mels=128\n",
        ")\n",
        "\n",
        "\n",
        "\n",
        "# Load the LibriSpeech dataset\n",
        "original_dataset = torchaudio.datasets.LIBRISPEECH(\n",
        "    root='/media',\n",
        "    url='train-clean-100',\n",
        "    download=True\n",
        ")\n",
        "\n",
        "\n",
        "# Define a custom dataset class\n",
        "class CustomAudioDataset(torch.utils.data.Dataset):\n",
        "    def __init__(self, dataset, transform):\n",
        "        self.dataset = dataset\n",
        "        self.transform = transform\n",
        "\n",
        "    def __len__(self):\n",
        "        return len(self.dataset)\n",
        "\n",
        "    def __getitem__(self, idx):\n",
        "        waveform, sample_rate, *additional_data = self.dataset[idx]\n",
        "        if self.transform:\n",
        "            waveform = self.transform(waveform)\n",
        "        return waveform, additional_data\n",
        "\n",
        "# Instantiate the custom dataset with the transform\n",
        "train_dataset = CustomAudioDataset(original_dataset, transform=transform)\n",
        "\n",
        "# Function to pad sequences to the same length\n",
        "def pad_sequence(batch):\n",
        "    max_length = max([item.size(-1) for item in batch])\n",
        "    padded_batch = []\n",
        "    for item in batch:\n",
        "        padding = max_length - item.size(-1)\n",
        "        if padding > 0:\n",
        "            padded_item = torch.nn.functional.pad(item, (0, padding))\n",
        "        else:\n",
        "            padded_item = item\n",
        "        padded_batch.append(padded_item)\n",
        "    padded_batch = torch.stack(padded_batch)\n",
        "    return padded_batch\n",
        "\n",
        "# Custom collate function to handle variable-length audio\n",
        "def collate_fn(batch):\n",
        "    tensors, targets = zip(*batch)\n",
        "    tensors = [item.unsqueeze(0) for item in tensors]  # Add channel dimension\n",
        "    tensors = pad_sequence(tensors)  # Pad sequences to the same length\n",
        "    return tensors, targets\n",
        "\n",
        "# Define a DataLoader with the custom collate function\n",
        "train_loader = DataLoader(train_dataset, batch_size=32, shuffle=True, collate_fn=collate_fn)\n",
        "\n",
        "# Iterate through the DataLoader\n",
        "for batch_idx, (data, target) in enumerate(train_loader):\n",
        "    print(data.shape, target)\n",
        "    if batch_idx == 0:\n",
        "        break\n",
        "\n",
        "\n",
        "\n",
        "\n"
      ],
      "metadata": {
        "id": "Matihw4hpel-",
        "outputId": "229f5adc-45c7-4832-b242-4bbaf68a7966",
        "colab": {
          "base_uri": "https://localhost:8080/"
        }
      },
      "execution_count": 11,
      "outputs": [
        {
          "output_type": "stream",
          "name": "stdout",
          "text": [
            "torch.Size([32, 1, 1, 128, 1353]) (['HER HEAD WAS A LITTLE ON ONE SIDE IN THE ATTITUDE OF ONE WHO LISTENS INTENTLY SLOWLY AND CAREFULLY MERCER THOUGHT OUT THE WHOLE STORY OF HIS EXPERIENCES WITH THE GIRL UNTIL SHE HAD PLUNGED INTO THE POOL THEN I SAW AGAIN THE BEACH', 8088, 284756, 94], ['HE WILL ALWAYS BE BLIND DEAR BUT LIFE HOLDS OTHER THINGS BESIDE SIGHT WE MUST NEVER SAY NO HOPE WILL HE LIVE THERE IS NO REASON HE SHOULD NOT LIVE', 226, 122538, 33], [\"ABOUT FIVE HUNDRED MILES FROM HEART'S CONTENT\", 839, 130898, 43], ['WAS SUFFICIENT TO ATTRACT THE MOSQUITO FROM EVERY PART OF THE COUNTRY FOR SOME TIME THE GARRISON ENDEAVORED TO HOLD OUT BUT IT WAS ALL IN VAIN THE MOSQUITOS PENETRATED INTO EVERY CHINK AND CREVICE AND GAVE THEM NO REST DAY NOR NIGHT', 8051, 295385, 36], ['IS A VERY GREAT EVIL IT WARPS AND DEPLETES PUBLIC INFORMATION IT PREVENTS THE JUST CRITICISM OF PUBLIC SERVANTS ABOVE ALL IT GIVES IMMENSE AND IRRESPONSIBLE POWER TO A HANDFUL OF WEALTHY MEN', 7264, 92314, 20], [\"PROVED THAT I HAD STRUCK THE FIRST BLOW THAT WAS BAD FOR ME IF YOU PLEASE SIR SAID BINNY WALLACE HOLDING UP HIS HAND FOR PERMISSION TO SPEAK BAILEY DIDN'T FIGHT ON HIS OWN ACCOUNT HE FOUGHT ON MY ACCOUNT AND IF YOU PLEASE SIR\", 6437, 66173, 52], ['THERE WAS A GOLD ORNAMENT A KIND OF OPEN RING WITH BOSSES OR BUTTONS ON THE ENDS', 8014, 112602, 39], ['I RETURNED TO THE DRAWING ROOM', 2136, 5147, 21], [\"MABEL REMEMBERED HER HUSBAND'S ADVICE TO WATCH AND FOR A FEW DAYS DID HER BEST BUT THERE WAS NOTHING THAT ALARMED HER THE OLD LADY WAS A LITTLE QUIET PERHAPS BUT WENT ABOUT HER MINUTE AFFAIRS AS USUAL SHE ASKED THE GIRL TO READ TO HER SOMETIMES\", 5678, 43303, 0], ['AND EVEN AS HE LOVED ROAMING ALONE AMONG THE RUINS AND ALONG THE COUNTRY ROADS SO HE CHERISHED THE PRIVACY OF HIS LONELY STUDIO WITH THE MANY SILENT FIGURES ON AN OLD PANEL OF SOME TRIPTYCH', 8425, 287387, 19], [\"THE TROOPS SIFTING THROUGH THE FOREST WERE SULLEN IN THE YOUTH'S COMPANY ONCE A MAN'S LAUGH RANG OUT A DOZEN SOLDIERS TURNED THEIR FACES QUICKLY TOWARD HIM AND FROWNED WITH VAGUE DISPLEASURE\", 441, 130108, 23], ['THE WORD MUST COME FROM YOU I AM ONLY TRYING TO MAKE IT POSSIBLE FOR YOU TO MEET YOUR HUSBAND WITHOUT ANY ADDITIONAL WRONG TO BLUNT HIS POSSIBLE FORGIVENESS OH HE WILL NEVER FORGIVE', 1970, 10594, 24], ['WE COULD HAVE NO MEANS OF KNOWING THAT THEY WERE IN ANY RESPECT OF A DIFFERENT NATURE FROM THESE ANIMALS BUT IF THERE WERE MACHINES BEARING THE IMAGE OF OUR BODIES AND CAPABLE OF IMITATING OUR ACTIONS AS FAR AS IT IS MORALLY POSSIBLE', 311, 124404, 102], ['HIS WALKING IN THE FIELDS AND THROUGH THE FORESTS AT NIGHT HAD BROUGHT HIM CLOSE TO NATURE AND THERE WERE FORCES IN THE PASSIONATELY RELIGIOUS MAN THAT RAN OUT TO THE FORCES IN NATURE THE DISAPPOINTMENT THAT HAD COME TO HIM WHEN A DAUGHTER', 1455, 134435, 36], ['AND BE SUBJECT TO THEE THAN TO DIE AND TO PERISH', 27, 124992, 20], ['BUT LETTING THIS MATTER PASS FOR THE PRESENT I WILL MERELY OBSERVE THAT FROM THE FIRST MOMENT OF HIS SETTING FOOT WITHIN THE LIMITS OF THE UNIVERSITY HE BEGAN TO EXERCISE OVER THE HABITS', 8238, 274553, 5], ['COULD NOT BE FOUND WITHOUT SELLING ONE OF THE ESTATES IN GENERAL THE HEAD STEWARD MADE OUT TO PIERRE THAT HIS PROJECT OF RAISING A REGIMENT WOULD RUIN HIM PIERRE LISTENED TO HIM SCARCELY ABLE TO REPRESS A SMILE', 3214, 167606, 16], [\"AND NOT NARROW NOT SELF ABSORBED FOR THEY SEEM INTERESTED IN EVERYTHING WHAT WAS IT THEN THAT PUT THEM OUT OF THE RACE COULD IT HAVE BEEN A QUITE NATURAL BELIEF THAT THEY HAD ALREADY WON AND WHEN THEY SAW THAT THEY HADN'T\", 3857, 182317, 9], ['AS IF FROM SOME CLOUD AND STRIKE AGAINST THE SIDE OF THE CRAG NOT A HUNDRED FEET FROM WHERE STOOD THE GHOSTLY FIGURE IN WHITE THAT WAS A BAD ONE CRIED MISTER DAMON', 4267, 287369, 28], ['HE MADE A LITTLE DEPRECATING MOVEMENT WITH HIS HANDS IT IS NOT CERTAIN THAT SHE WILL DIE IT', 5678, 43303, 8], ['HIS SCANTY HAIR COMBED AND OILED TRIMMING HIS NAILS AS HE DESCENDED THE STAIRS MAJESTICALLY IN A STARCHED CRAVAT AND A GREY FLANNEL DRESSING GOWN A REAL OLD ENGLISH GENTLEMAN IN A WORD', 669, 129061, 12], ['AND DID NOT GO ONCE ONLY BUT MANY TIMES OUT TO THE SPRING LINA SAW THIS AND SAID LISTEN OLD SANNA WHY ARE YOU FETCHING SO MUCH WATER IF YOU WILL NEVER REPEAT IT TO ANYONE I WILL TELL YOU WHY SO LINA SAID NO', 458, 126294, 4], ['OBVIOUSLY THEY WOULD COME TOGETHER BEFORE THE NAUTILUS COULD BREAK FREE FOR AN INSTANT I WAS GRIPPED BY DESPAIR MY PICK NEARLY SLIPPED FROM MY HANDS WHAT WAS THE POINT OF THIS DIGGING IF I WAS TO DIE SMOTHERED AND CRUSHED BY THIS WATER TURNING TO STONE', 405, 130894, 35], [\"I DON'T THINK I SEE ANYTHING TO NIGHT SAYS WENDY WITH A FEELING THAT IF NANA WERE HERE SHE WOULD OBJECT TO FURTHER CONVERSATION YES YOU DO SAYS JANE\", 1040, 133433, 43], ['AN OLD FRIEND OF OUR CAPTAIN HAD DECIDED TO FOLLOW IN OUR WAKE HE BEING LESS FAMILIAR THAN THE LATTER WITH ALASKAN WATERS', 3235, 28433, 49], ['NO NO I HAVE TWO ARMS PARRY AND I HAVE A SWORD AND HE STRUCK HIS ARM VIOLENTLY WITH HIS HAND AND TOOK DOWN HIS SWORD WHICH HUNG AGAINST THE WALL', 5561, 39621, 42], ['LIKE MAN IN THE CLASSIFICATION OF ANIMALS HE FORMS A GENUS IN HIMSELF HE STANDS ALONE THERE IS NOT ANOTHER IN THE WIDE WORLD LIKE HIM', 7278, 91083, 40], ['HIS TALENTS FOR THE CONDUCT OF GREAT PIRATICAL OPERATIONS SOON BECAME APPARENT AND HE WAS GENERALLY ACKNOWLEDGED AS THE HEAD PIRATE OF THE WEST INDIES HE WAS NOW LOOKED UPON AS A HERO EVEN BY THOSE COLONISTS', 332, 128985, 5], ['AND SOON SPIES BEGAN TO COME TO THE GOVERNOR WITH TALES AND FABRICATIONS OF THE CRIMES THAT SHE HAD BEEN COMMITTING IN THEIR EYES THEY BORE WITNESS THAT SHE HAD GIVEN AN OVERCOAT TO A FRENCHMAN WHO WAS COLD AND HUNGRY AND THE FRENCHMAN LATER ESCAPED OVER THE DUTCH FRONTIER', 696, 92939, 15], ['WHERE HE ANNOUNCED HE HAD BEEN ATTACKED BY THE ENTIRE AMERICAN ARMY ONE OF THE RESIDENTS OF SANTIAGO ASKED ONE OF THE SOLDIERS IF THOSE AMERICANS FOUGHT WELL WELL HE REPLIED', 5049, 25947, 121], ['ALMOST AS SOON AS HE WAS DISCOVERABLE LET US SPARE A MOMENT AND A TEAR FOR THOSE GOLDEN DAYS IN THE EARLY NINETEEN HUNDREDS WHEN THERE WERE FIVE LEISURELY PAPERS OF AN EVENING', 254, 145458, 2], ['SO HE RESIGNED HIMSELF TO PASS THE NIGHT UNDER THE STARS AND HAVING FOUND A SUITABLE GRASSY SPOT BY THE ROADSIDE HE LAY DOWN THERE AND PREPARED TO SLEEP', 2952, 410, 3])\n"
          ]
        }
      ]
    },
    {
      "cell_type": "code",
      "source": [
        "class audio_constructor(nn.Module):\n",
        "  def __init__(self,input_dim, hidden_dim, output_dim, num_layers, dropout = 0.2):\n",
        "    super(audio_constructor, self).__init__()\n",
        "    self.lstm = nn.LSTM(input_dim, hidden_dim, num_layers, dropout= dropout, batch_first = True)\n",
        "    self.Dropout = nn.Dropout(dropout)\n",
        "    self.fc = nn.Linear(hidden_dim, output_dim)\n",
        "\n",
        "  def forward(self,x):\n",
        "    h0 = torch.zeros(self.num_layers, x.size(), hidden_dim).to_device()\n",
        "    c0 = torch.zeros(self.num_layers, x.size(), hidden_dim).to_device()\n",
        "    out, (hn, cn) = self.lstm(x, (h0, c0))\n",
        "    out =self.Dropout(out[:,-1,:])\n",
        "    out = self.fc(out)\n",
        "    return out\n",
        "\n",
        "\n",
        "input_dim = 1028\n",
        "hidden_dim = 1028\n",
        "output_dim = 100\n",
        "num_layers = 10\n",
        "learning_rate = 0.001\n",
        "dropout_rate = 0.2\n",
        "num_epochs = 100\n",
        "\n",
        "\n",
        "model = audio_constructor(input_dim, hidden_dim, output_dim, num_layers, dropout_rate)\n",
        "criterion = nn.CrossEntropyLoss()\n",
        "optimizer = optim.Adam(model.parameters(), lr = learning_rate)\n",
        "\n",
        "for epoch in range(num_epochs):\n",
        "  for i, (inputs, labels) in enumerate(train_Loader):\n",
        "    outputs = model(audio_tensor)\n",
        "    loss = criterion(outputs, labels)\n",
        "    optimizer.zero_grad()\n",
        "    loss.backward()\n",
        "    optimizer.step()\n",
        "\n",
        "  print(f'Epoch [{epoch+1}/{num_epochs}], Loss: {loss.item():.4f}')\n",
        ""
      ],
      "metadata": {
        "id": "YGzdG2xILzvU",
        "outputId": "5a45c02f-c8f6-4658-8955-df6644ebdf1e",
        "colab": {
          "base_uri": "https://localhost:8080/",
          "height": 332
        }
      },
      "execution_count": 12,
      "outputs": [
        {
          "output_type": "error",
          "ename": "NameError",
          "evalue": "name 'Ture' is not defined",
          "traceback": [
            "\u001b[0;31m---------------------------------------------------------------------------\u001b[0m",
            "\u001b[0;31mNameError\u001b[0m                                 Traceback (most recent call last)",
            "\u001b[0;32m<ipython-input-12-962475cdbc11>\u001b[0m in \u001b[0;36m<cell line: 25>\u001b[0;34m()\u001b[0m\n\u001b[1;32m     23\u001b[0m \u001b[0;34m\u001b[0m\u001b[0m\n\u001b[1;32m     24\u001b[0m \u001b[0;34m\u001b[0m\u001b[0m\n\u001b[0;32m---> 25\u001b[0;31m \u001b[0mmodel\u001b[0m \u001b[0;34m=\u001b[0m \u001b[0maudio_constructor\u001b[0m\u001b[0;34m(\u001b[0m\u001b[0minput_dim\u001b[0m\u001b[0;34m,\u001b[0m \u001b[0mhidden_dim\u001b[0m\u001b[0;34m,\u001b[0m \u001b[0moutput_dim\u001b[0m\u001b[0;34m,\u001b[0m \u001b[0mnum_layers\u001b[0m\u001b[0;34m,\u001b[0m \u001b[0mdropout_rate\u001b[0m\u001b[0;34m)\u001b[0m\u001b[0;34m\u001b[0m\u001b[0;34m\u001b[0m\u001b[0m\n\u001b[0m\u001b[1;32m     26\u001b[0m \u001b[0mcriterion\u001b[0m \u001b[0;34m=\u001b[0m \u001b[0mnn\u001b[0m\u001b[0;34m.\u001b[0m\u001b[0mCrossEntropyLoss\u001b[0m\u001b[0;34m(\u001b[0m\u001b[0;34m)\u001b[0m\u001b[0;34m\u001b[0m\u001b[0;34m\u001b[0m\u001b[0m\n\u001b[1;32m     27\u001b[0m \u001b[0moptimizer\u001b[0m \u001b[0;34m=\u001b[0m \u001b[0moptim\u001b[0m\u001b[0;34m.\u001b[0m\u001b[0mAdam\u001b[0m\u001b[0;34m(\u001b[0m\u001b[0mmodel\u001b[0m\u001b[0;34m.\u001b[0m\u001b[0mparameters\u001b[0m\u001b[0;34m(\u001b[0m\u001b[0;34m)\u001b[0m\u001b[0;34m,\u001b[0m \u001b[0mlr\u001b[0m \u001b[0;34m=\u001b[0m \u001b[0mlearning_rate\u001b[0m\u001b[0;34m)\u001b[0m\u001b[0;34m\u001b[0m\u001b[0;34m\u001b[0m\u001b[0m\n",
            "\u001b[0;32m<ipython-input-12-962475cdbc11>\u001b[0m in \u001b[0;36m__init__\u001b[0;34m(self, input_dim, hidden_dim, output_dim, num_layers, dropout)\u001b[0m\n\u001b[1;32m      1\u001b[0m \u001b[0;32mclass\u001b[0m \u001b[0maudio_constructor\u001b[0m\u001b[0;34m(\u001b[0m\u001b[0mnn\u001b[0m\u001b[0;34m.\u001b[0m\u001b[0mModule\u001b[0m\u001b[0;34m)\u001b[0m\u001b[0;34m:\u001b[0m\u001b[0;34m\u001b[0m\u001b[0;34m\u001b[0m\u001b[0m\n\u001b[1;32m      2\u001b[0m   \u001b[0;32mdef\u001b[0m \u001b[0m__init__\u001b[0m\u001b[0;34m(\u001b[0m\u001b[0mself\u001b[0m\u001b[0;34m,\u001b[0m\u001b[0minput_dim\u001b[0m\u001b[0;34m,\u001b[0m \u001b[0mhidden_dim\u001b[0m\u001b[0;34m,\u001b[0m \u001b[0moutput_dim\u001b[0m\u001b[0;34m,\u001b[0m \u001b[0mnum_layers\u001b[0m\u001b[0;34m,\u001b[0m \u001b[0mdropout\u001b[0m \u001b[0;34m=\u001b[0m \u001b[0;36m0.2\u001b[0m\u001b[0;34m)\u001b[0m\u001b[0;34m:\u001b[0m\u001b[0;34m\u001b[0m\u001b[0;34m\u001b[0m\u001b[0m\n\u001b[0;32m----> 3\u001b[0;31m     \u001b[0mself\u001b[0m\u001b[0;34m.\u001b[0m\u001b[0mlstm\u001b[0m \u001b[0;34m=\u001b[0m \u001b[0mnn\u001b[0m\u001b[0;34m.\u001b[0m\u001b[0mLSTM\u001b[0m\u001b[0;34m(\u001b[0m\u001b[0minput_dim\u001b[0m\u001b[0;34m,\u001b[0m \u001b[0mhidden_dim\u001b[0m\u001b[0;34m,\u001b[0m \u001b[0mnum_layers\u001b[0m\u001b[0;34m,\u001b[0m \u001b[0mdropout\u001b[0m\u001b[0;34m=\u001b[0m \u001b[0mdropout\u001b[0m\u001b[0;34m,\u001b[0m \u001b[0mbatch_first\u001b[0m \u001b[0;34m=\u001b[0m\u001b[0mTure\u001b[0m\u001b[0;34m)\u001b[0m\u001b[0;34m\u001b[0m\u001b[0;34m\u001b[0m\u001b[0m\n\u001b[0m\u001b[1;32m      4\u001b[0m     \u001b[0mself\u001b[0m\u001b[0;34m.\u001b[0m\u001b[0mDropout\u001b[0m \u001b[0;34m=\u001b[0m \u001b[0mnn\u001b[0m\u001b[0;34m.\u001b[0m\u001b[0mDropout\u001b[0m\u001b[0;34m(\u001b[0m\u001b[0mdropout\u001b[0m\u001b[0;34m)\u001b[0m\u001b[0;34m\u001b[0m\u001b[0;34m\u001b[0m\u001b[0m\n\u001b[1;32m      5\u001b[0m     \u001b[0mself\u001b[0m\u001b[0;34m.\u001b[0m\u001b[0mfc\u001b[0m \u001b[0;34m=\u001b[0m \u001b[0mnn\u001b[0m\u001b[0;34m.\u001b[0m\u001b[0mLinear\u001b[0m\u001b[0;34m(\u001b[0m\u001b[0mhidden_dim\u001b[0m\u001b[0;34m,\u001b[0m \u001b[0moutput_dim\u001b[0m\u001b[0;34m)\u001b[0m\u001b[0;34m\u001b[0m\u001b[0;34m\u001b[0m\u001b[0m\n",
            "\u001b[0;31mNameError\u001b[0m: name 'Ture' is not defined"
          ]
        }
      ]
    }
  ],
  "metadata": {
    "colab": {
      "name": "Welcome To Colab",
      "provenance": [],
      "include_colab_link": true
    },
    "kernelspec": {
      "display_name": "Python 3",
      "name": "python3"
    }
  },
  "nbformat": 4,
  "nbformat_minor": 0
}