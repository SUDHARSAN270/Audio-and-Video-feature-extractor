{
  "cells": [
    {
      "cell_type": "markdown",
      "metadata": {
        "id": "view-in-github",
        "colab_type": "text"
      },
      "source": [
        "<a href=\"https://colab.research.google.com/github/SUDHARSAN270/Machine_learning/blob/main/audio_construction1.ipynb\" target=\"_parent\"><img src=\"https://colab.research.google.com/assets/colab-badge.svg\" alt=\"Open In Colab\"/></a>"
      ]
    },
    {
      "cell_type": "code",
      "source": [
        "import torch\n",
        "import torch.optim as optim\n",
        "import torch.nn as nn\n",
        "from torch.utils.data import Dataset, DataLoader, TensorDataset\n",
        "import torchaudio\n",
        "import torchaudio.transforms as transforms"
      ],
      "metadata": {
        "id": "Hod4P2vwo3fA"
      },
      "execution_count": 2,
      "outputs": []
    },
    {
      "cell_type": "code",
      "source": [
        "train_dataset = torchaudio.datasets.LIBRISPEECH(\n",
        "    root='/media',\n",
        "    url='train-clean-100',\n",
        "    download=True\n",
        ")"
      ],
      "metadata": {
        "id": "tFkoTfOCLJUH",
        "outputId": "243ab552-fb70-47ae-a367-05303263578d",
        "colab": {
          "base_uri": "https://localhost:8080/"
        }
      },
      "execution_count": 3,
      "outputs": [
        {
          "output_type": "stream",
          "name": "stderr",
          "text": [
            "100%|██████████| 5.95G/5.95G [04:39<00:00, 22.8MB/s]\n"
          ]
        }
      ]
    },
    {
      "cell_type": "code",
      "source": [
        "waveform, sample_rate, utterance, speaker_id, chapter_id, utterance_id = train_dataset[0]\n",
        "\n",
        "print(\"Waveform: \", waveform.shape)\n",
        "print(\"Sample Rate: \", sample_rate)\n",
        "print(\"Utterance: \", utterance)\n",
        "print(\"Speaker ID: \", speaker_id)\n",
        "print(\"Chapter ID: \", chapter_id)\n",
        "print(\"Utterance ID: \", utterance_id)"
      ],
      "metadata": {
        "colab": {
          "base_uri": "https://localhost:8080/"
        },
        "id": "lhBwIah-99kL",
        "outputId": "97426961-a8b4-4d25-d765-f23b2e0009d0"
      },
      "execution_count": 4,
      "outputs": [
        {
          "output_type": "stream",
          "name": "stdout",
          "text": [
            "Waveform:  torch.Size([1, 225360])\n",
            "Sample Rate:  16000\n",
            "Utterance:  CHAPTER ONE MISSUS RACHEL LYNDE IS SURPRISED MISSUS RACHEL LYNDE LIVED JUST WHERE THE AVONLEA MAIN ROAD DIPPED DOWN INTO A LITTLE HOLLOW FRINGED WITH ALDERS AND LADIES EARDROPS AND TRAVERSED BY A BROOK\n",
            "Speaker ID:  103\n",
            "Chapter ID:  1240\n",
            "Utterance ID:  0\n"
          ]
        }
      ]
    },
    {
      "cell_type": "code",
      "source": [
        "transform  = transforms.MelSpectrogram(\n",
        "    sample_rate = 16000,\n",
        "    n_mels =64\n",
        "\n",
        ")\n",
        "\n",
        "class CustomAudioDataset(torch.utils.data.Dataset):\n",
        "  def __init__(self, dataset, transform = transform):\n",
        "    self.dataset = dataset\n",
        "    self.transform = transform\n",
        "\n",
        "  def __len__(self):\n",
        "    return len(self.dataset)\n",
        "\n",
        "  def __getitem__(self, idx):\n",
        "    waveform,sample_rate,utterance,speaker_id, character_id, utterance_id = self.dataset[idx]\n",
        "    if self.transform:\n",
        "      waveform = self.transform(waveform)\n",
        "      return waveform, utterance\n",
        "\n",
        "\n",
        "customdataset = CustomAudioDataset(train_dataset)\n",
        "data_loader = DataLoader(customdataset, batch_size=1, shuffle=False)\n",
        "\n",
        "for batch_idx, (waveform, utterance) in enumerate(data_loader):\n",
        "    print(f\"Batch {batch_idx} - Waveform: {waveform}\")\n",
        "    print(f\"Batch {batch_idx} - Utterance: {utterance}\")\n",
        "    if batch_idx == 10:  # Just to prevent printing too many items, remove this condition to print all\n",
        "        break\n",
        "\n",
        "\n",
        "\n",
        "\n",
        "\n",
        "\n",
        "\n",
        "\n"
      ],
      "metadata": {
        "colab": {
          "base_uri": "https://localhost:8080/"
        },
        "id": "AqIogKE-2QRB",
        "outputId": "a3429fca-b18a-4763-e65e-42f14fb69bed"
      },
      "execution_count": 12,
      "outputs": [
        {
          "output_type": "stream",
          "name": "stdout",
          "text": [
            "Batch 0 - Waveform: tensor([[[[8.4763e-02, 1.7181e-01, 2.0784e-01,  ..., 1.8564e-01,\n",
            "           1.9522e-01, 1.7406e-01],\n",
            "          [1.4351e-01, 1.8478e-01, 2.2880e-01,  ..., 2.1243e-01,\n",
            "           2.1054e-01, 1.9729e-01],\n",
            "          [2.9711e-01, 2.0784e-01, 2.7100e-01,  ..., 2.7205e-01,\n",
            "           2.3831e-01, 2.4806e-01],\n",
            "          ...,\n",
            "          [4.6170e-05, 8.2392e-05, 7.1293e-05,  ..., 3.3892e-04,\n",
            "           6.0091e-04, 4.7660e-04],\n",
            "          [8.1751e-05, 6.8375e-05, 1.1176e-04,  ..., 8.6317e-04,\n",
            "           6.8341e-04, 3.8994e-04],\n",
            "          [6.3690e-05, 4.8717e-05, 8.2652e-05,  ..., 6.8039e-04,\n",
            "           2.6759e-04, 1.5800e-04]]]])\n",
            "Batch 0 - Utterance: ('CHAPTER ONE MISSUS RACHEL LYNDE IS SURPRISED MISSUS RACHEL LYNDE LIVED JUST WHERE THE AVONLEA MAIN ROAD DIPPED DOWN INTO A LITTLE HOLLOW FRINGED WITH ALDERS AND LADIES EARDROPS AND TRAVERSED BY A BROOK',)\n",
            "Batch 1 - Waveform: tensor([[[[6.2846e-03, 1.2959e-01, 2.6418e-01,  ..., 2.5907e-01,\n",
            "           1.6864e-01, 1.0920e-01],\n",
            "          [6.7725e-02, 1.5074e-01, 2.8014e-01,  ..., 2.7460e-01,\n",
            "           1.8959e-01, 1.4628e-01],\n",
            "          [2.3423e-01, 1.9900e-01, 3.0474e-01,  ..., 2.9843e-01,\n",
            "           2.3454e-01, 2.3929e-01],\n",
            "          ...,\n",
            "          [8.6466e-04, 4.9690e-04, 3.9978e-04,  ..., 1.1267e-04,\n",
            "           2.3220e-04, 6.1723e-05],\n",
            "          [6.4717e-04, 6.0711e-04, 4.4922e-04,  ..., 2.0830e-04,\n",
            "           1.1858e-04, 6.6679e-05],\n",
            "          [3.2839e-04, 2.8594e-04, 5.0497e-04,  ..., 2.4337e-04,\n",
            "           3.0615e-04, 1.4146e-04]]]])\n",
            "Batch 1 - Utterance: (\"THAT HAD ITS SOURCE AWAY BACK IN THE WOODS OF THE OLD CUTHBERT PLACE IT WAS REPUTED TO BE AN INTRICATE HEADLONG BROOK IN ITS EARLIER COURSE THROUGH THOSE WOODS WITH DARK SECRETS OF POOL AND CASCADE BUT BY THE TIME IT REACHED LYNDE'S HOLLOW IT WAS A QUIET WELL CONDUCTED LITTLE STREAM\",)\n",
            "Batch 2 - Waveform: tensor([[[[3.7659e-01, 2.0230e-01, 2.1238e-01,  ..., 1.6919e-01,\n",
            "           1.7906e-01, 2.1357e-01],\n",
            "          [3.0680e-01, 2.2082e-01, 2.5642e-01,  ..., 1.9135e-01,\n",
            "           2.1569e-01, 2.1410e-01],\n",
            "          [9.0438e-02, 2.5679e-01, 3.6101e-01,  ..., 2.3958e-01,\n",
            "           3.0252e-01, 2.0039e-01],\n",
            "          ...,\n",
            "          [4.6905e-04, 1.7367e-04, 1.0478e-04,  ..., 8.0503e-04,\n",
            "           5.9909e-04, 6.3174e-04],\n",
            "          [1.6518e-04, 1.8169e-04, 1.7444e-04,  ..., 7.2436e-04,\n",
            "           6.1797e-04, 4.8064e-04],\n",
            "          [2.1862e-04, 2.3771e-04, 2.4097e-04,  ..., 2.3840e-04,\n",
            "           5.6446e-04, 1.3370e-04]]]])\n",
            "Batch 2 - Utterance: (\"FOR NOT EVEN A BROOK COULD RUN PAST MISSUS RACHEL LYNDE'S DOOR WITHOUT DUE REGARD FOR DECENCY AND DECORUM IT PROBABLY WAS CONSCIOUS THAT MISSUS RACHEL WAS SITTING AT HER WINDOW KEEPING A SHARP EYE ON EVERYTHING THAT PASSED FROM BROOKS AND CHILDREN UP\",)\n",
            "Batch 3 - Waveform: tensor([[[[6.9780e-02, 2.0617e-01, 1.4209e-01,  ..., 2.0644e-01,\n",
            "           1.4650e-01, 1.7606e-01],\n",
            "          [1.3386e-01, 2.2991e-01, 1.6500e-01,  ..., 2.2660e-01,\n",
            "           1.8158e-01, 1.8609e-01],\n",
            "          [3.0302e-01, 2.7980e-01, 2.1716e-01,  ..., 2.6674e-01,\n",
            "           2.6650e-01, 2.0086e-01],\n",
            "          ...,\n",
            "          [5.4736e-04, 1.4452e-03, 6.2693e-04,  ..., 2.3842e-04,\n",
            "           2.6270e-04, 1.6512e-04],\n",
            "          [2.0465e-04, 4.7405e-04, 2.8326e-04,  ..., 1.0311e-04,\n",
            "           2.5512e-04, 1.0563e-04],\n",
            "          [2.9874e-04, 1.1912e-04, 1.9587e-04,  ..., 9.6371e-05,\n",
            "           2.6771e-04, 1.5003e-04]]]])\n",
            "Batch 3 - Utterance: (\"AND THAT IF SHE NOTICED ANYTHING ODD OR OUT OF PLACE SHE WOULD NEVER REST UNTIL SHE HAD FERRETED OUT THE WHYS AND WHEREFORES THEREOF THERE ARE PLENTY OF PEOPLE IN AVONLEA AND OUT OF IT WHO CAN ATTEND CLOSELY TO THEIR NEIGHBOR'S BUSINESS BY DINT OF NEGLECTING THEIR OWN\",)\n",
            "Batch 4 - Waveform: tensor([[[[1.4152e-01, 1.5863e-01, 2.3114e-01,  ..., 1.9795e-01,\n",
            "           2.0832e-01, 2.1468e-01],\n",
            "          [1.1282e-01, 2.0178e-01, 2.4078e-01,  ..., 2.1160e-01,\n",
            "           2.2540e-01, 1.7172e-01],\n",
            "          [2.4788e-02, 3.0777e-01, 2.5057e-01,  ..., 2.3465e-01,\n",
            "           2.5704e-01, 3.9760e-02],\n",
            "          ...,\n",
            "          [1.9393e-04, 1.6045e-04, 1.5018e-04,  ..., 6.7551e-04,\n",
            "           4.1580e-04, 8.9929e-04],\n",
            "          [2.0531e-04, 1.5662e-04, 2.3251e-04,  ..., 1.6311e-03,\n",
            "           9.2517e-04, 4.7416e-04],\n",
            "          [7.2575e-05, 9.2856e-05, 1.9080e-04,  ..., 5.4112e-04,\n",
            "           8.2830e-04, 3.0349e-04]]]])\n",
            "Batch 4 - Utterance: ('BUT MISSUS RACHEL LYNDE WAS ONE OF THOSE CAPABLE CREATURES WHO CAN MANAGE THEIR OWN CONCERNS AND THOSE OF OTHER FOLKS INTO THE BARGAIN SHE WAS A NOTABLE HOUSEWIFE HER WORK WAS ALWAYS DONE AND WELL DONE SHE RAN THE SEWING CIRCLE',)\n",
            "Batch 5 - Waveform: tensor([[[[5.8977e-02, 1.8708e-01, 1.9679e-01,  ..., 1.4083e-01,\n",
            "           1.6441e-01, 2.0830e-01],\n",
            "          [7.2772e-02, 2.2069e-01, 2.1947e-01,  ..., 1.6127e-01,\n",
            "           1.9231e-01, 1.6402e-01],\n",
            "          [1.0607e-01, 2.9873e-01, 2.6713e-01,  ..., 2.0682e-01,\n",
            "           2.5643e-01, 2.8903e-02],\n",
            "          ...,\n",
            "          [9.4827e-04, 1.4544e-03, 4.2585e-04,  ..., 6.7312e-04,\n",
            "           3.3176e-04, 2.9267e-04],\n",
            "          [2.6678e-03, 7.8807e-04, 4.5955e-04,  ..., 4.5882e-04,\n",
            "           6.2635e-04, 8.8782e-04],\n",
            "          [2.6732e-04, 4.8674e-04, 3.5700e-04,  ..., 5.1955e-04,\n",
            "           5.3903e-04, 2.4697e-04]]]])\n",
            "Batch 5 - Utterance: ('HELPED RUN THE SUNDAY SCHOOL AND WAS THE STRONGEST PROP OF THE CHURCH AID SOCIETY AND FOREIGN MISSIONS AUXILIARY YET WITH ALL THIS MISSUS RACHEL FOUND ABUNDANT TIME TO SIT FOR HOURS AT HER KITCHEN WINDOW KNITTING COTTON WARP QUILTS SHE HAD KNITTED SIXTEEN OF THEM',)\n",
            "Batch 6 - Waveform: tensor([[[[1.2588e-01, 1.6432e-01, 2.1434e-01,  ..., 2.3249e-01,\n",
            "           1.6533e-01, 2.8655e-01],\n",
            "          [1.0178e-01, 1.9871e-01, 2.2692e-01,  ..., 2.5652e-01,\n",
            "           1.8284e-01, 2.6355e-01],\n",
            "          [2.7359e-02, 2.8052e-01, 2.4590e-01,  ..., 3.0534e-01,\n",
            "           2.1870e-01, 1.8072e-01],\n",
            "          ...,\n",
            "          [3.9655e-04, 2.7184e-04, 1.2273e-04,  ..., 5.4738e-05,\n",
            "           7.0678e-05, 8.2001e-05],\n",
            "          [1.7170e-04, 3.6129e-04, 1.4973e-04,  ..., 5.7951e-05,\n",
            "           9.2908e-05, 6.7277e-05],\n",
            "          [1.6034e-04, 4.2420e-04, 3.1711e-04,  ..., 6.6601e-05,\n",
            "           9.1918e-05, 1.2027e-04]]]])\n",
            "Batch 6 - Utterance: ('AS AVONLEA HOUSEKEEPERS WERE WONT TO TELL IN AWED VOICES AND KEEPING A SHARP EYE ON THE MAIN ROAD THAT CROSSED THE HOLLOW AND WOUND UP THE STEEP RED HILL BEYOND',)\n",
            "Batch 7 - Waveform: tensor([[[[1.1634e-02, 2.0783e-01, 2.0632e-01,  ..., 1.4621e-01,\n",
            "           2.1438e-01, 1.9085e-01],\n",
            "          [5.8252e-02, 2.2291e-01, 2.4420e-01,  ..., 1.6385e-01,\n",
            "           2.4824e-01, 2.1407e-01],\n",
            "          [1.8410e-01, 2.4914e-01, 3.3247e-01,  ..., 2.0144e-01,\n",
            "           3.2505e-01, 2.6360e-01],\n",
            "          ...,\n",
            "          [1.4893e-03, 2.0896e-03, 1.2368e-03,  ..., 2.6335e-04,\n",
            "           2.8640e-04, 3.1555e-04],\n",
            "          [7.8249e-04, 9.5963e-04, 6.2381e-04,  ..., 9.5372e-05,\n",
            "           1.2855e-04, 1.5406e-04],\n",
            "          [1.4645e-04, 5.6752e-04, 3.5409e-04,  ..., 1.7002e-04,\n",
            "           7.6958e-05, 1.1352e-04]]]])\n",
            "Batch 7 - Utterance: (\"ANYBODY WHO WENT OUT OF IT OR INTO IT HAD TO PASS OVER THAT HILL ROAD AND SO RUN THE UNSEEN GAUNTLET OF MISSUS RACHEL'S ALL SEEING EYE SHE WAS SITTING THERE ONE AFTERNOON IN EARLY JUNE THE SUN WAS COMING IN AT THE WINDOW WARM AND BRIGHT\",)\n",
            "Batch 8 - Waveform: tensor([[[[3.7103e-01, 1.0332e-01, 1.8875e-01,  ..., 1.6849e-01,\n",
            "           2.0111e-01, 1.5585e-01],\n",
            "          [2.8979e-01, 1.3908e-01, 2.0359e-01,  ..., 1.8145e-01,\n",
            "           2.2117e-01, 1.7573e-01],\n",
            "          [4.2693e-02, 2.2891e-01, 2.3052e-01,  ..., 2.0471e-01,\n",
            "           2.6139e-01, 2.1868e-01],\n",
            "          ...,\n",
            "          [1.9547e-04, 1.0796e-04, 3.2813e-04,  ..., 8.3842e-05,\n",
            "           1.2352e-04, 1.6456e-04],\n",
            "          [2.7964e-04, 8.7206e-05, 2.1924e-04,  ..., 1.1732e-04,\n",
            "           9.6349e-05, 9.1933e-05],\n",
            "          [2.8928e-04, 1.1780e-04, 2.0890e-04,  ..., 1.1249e-04,\n",
            "           5.9969e-05, 1.1059e-04]]]])\n",
            "Batch 8 - Utterance: (\"THE ORCHARD ON THE SLOPE BELOW THE HOUSE WAS IN A BRIDAL FLUSH OF PINKY WHITE BLOOM HUMMED OVER BY A MYRIAD OF BEES THOMAS LYNDE A MEEK LITTLE MAN WHOM AVONLEA PEOPLE CALLED RACHEL LYNDE'S HUSBAND WAS SOWING HIS LATE TURNIP SEED ON THE HILL FIELD BEYOND THE BARN\",)\n",
            "Batch 9 - Waveform: tensor([[[[2.4431e-03, 1.6414e-01, 1.9017e-01,  ..., 1.7501e-01,\n",
            "           2.0357e-01, 1.4594e-01],\n",
            "          [4.9067e-02, 1.9019e-01, 2.0993e-01,  ..., 2.0470e-01,\n",
            "           2.2992e-01, 1.6265e-01],\n",
            "          [1.7558e-01, 2.4935e-01, 2.5011e-01,  ..., 2.7298e-01,\n",
            "           2.8707e-01, 1.9769e-01],\n",
            "          ...,\n",
            "          [2.4469e-04, 1.4014e-04, 2.6035e-04,  ..., 3.4817e-04,\n",
            "           1.2690e-04, 2.5765e-04],\n",
            "          [2.0471e-04, 2.0304e-04, 1.3037e-04,  ..., 1.4314e-04,\n",
            "           1.2261e-04, 8.4499e-04],\n",
            "          [1.0573e-04, 2.5662e-04, 2.7584e-04,  ..., 3.3824e-04,\n",
            "           3.9353e-04, 4.1842e-04]]]])\n",
            "Batch 9 - Utterance: (\"MISSUS RACHEL KNEW THAT HE OUGHT BECAUSE SHE HAD HEARD HIM TELL PETER MORRISON THE EVENING BEFORE IN WILLIAM J BLAIR'S STORE OVER AT CARMODY THAT HE MEANT TO SOW HIS TURNIP SEED THE NEXT AFTERNOON\",)\n",
            "Batch 10 - Waveform: tensor([[[[2.0767e-01, 1.8919e-01, 1.6995e-01,  ..., 1.3058e-01,\n",
            "           2.2041e-01, 3.1223e-01],\n",
            "          [1.7685e-01, 2.0024e-01, 1.8458e-01,  ..., 1.5889e-01,\n",
            "           2.3238e-01, 2.7684e-01],\n",
            "          [7.8365e-02, 2.1687e-01, 2.1227e-01,  ..., 2.2654e-01,\n",
            "           2.4928e-01, 1.5853e-01],\n",
            "          ...,\n",
            "          [2.3613e-04, 1.3973e-04, 1.6394e-04,  ..., 6.1109e-05,\n",
            "           7.9110e-05, 5.9228e-05],\n",
            "          [3.2352e-04, 2.0734e-04, 1.4385e-04,  ..., 1.1565e-04,\n",
            "           6.6786e-05, 6.2401e-05],\n",
            "          [2.4768e-04, 2.3905e-04, 2.0945e-04,  ..., 6.3959e-05,\n",
            "           6.8136e-05, 5.6688e-05]]]])\n",
            "Batch 10 - Utterance: ('PETER HAD ASKED HIM OF COURSE FOR MATTHEW CUTHBERT HAD NEVER BEEN KNOWN TO VOLUNTEER INFORMATION ABOUT ANYTHING IN HIS WHOLE LIFE AND YET HERE WAS MATTHEW CUTHBERT AT HALF PAST THREE ON THE AFTERNOON OF A BUSY DAY PLACIDLY DRIVING OVER THE HOLLOW AND UP THE HILL',)\n"
          ]
        }
      ]
    }
  ],
  "metadata": {
    "colab": {
      "name": "Welcome To Colab",
      "provenance": [],
      "include_colab_link": true
    },
    "kernelspec": {
      "display_name": "Python 3",
      "name": "python3"
    }
  },
  "nbformat": 4,
  "nbformat_minor": 0
}