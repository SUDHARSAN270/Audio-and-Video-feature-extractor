{
  "nbformat": 4,
  "nbformat_minor": 0,
  "metadata": {
    "colab": {
      "provenance": [],
      "authorship_tag": "ABX9TyOY5Ff0RpLezDJG+H+AczfB",
      "include_colab_link": true
    },
    "kernelspec": {
      "name": "python3",
      "display_name": "Python 3"
    },
    "language_info": {
      "name": "python"
    }
  },
  "cells": [
    {
      "cell_type": "markdown",
      "metadata": {
        "id": "view-in-github",
        "colab_type": "text"
      },
      "source": [
        "<a href=\"https://colab.research.google.com/github/SUDHARSAN270/Machine_learning/blob/main/gradient.ipynb\" target=\"_parent\"><img src=\"https://colab.research.google.com/assets/colab-badge.svg\" alt=\"Open In Colab\"/></a>"
      ]
    },
    {
      "cell_type": "code",
      "source": [
        "import torch"
      ],
      "metadata": {
        "id": "iLMow37Bs1Ed"
      },
      "execution_count": 58,
      "outputs": []
    },
    {
      "cell_type": "code",
      "source": [
        "t_c = [0.5, 14.0, 15.0, 28.0, 11.0, 8.0, 3.0,-4.0, 6.0, 13.0, 21.0]\n",
        "t_u = [35.7, 55.9, 58.2, 81.9, 56.3, 48.9, 33.9, 21.8, 48.4, 60.4, 68.4]\n",
        "t_c = torch.tensor(t_c)\n",
        "t_u = torch.tensor(t_u)"
      ],
      "metadata": {
        "id": "2LtefTu_s2h-"
      },
      "execution_count": 59,
      "outputs": []
    },
    {
      "cell_type": "code",
      "source": [
        "def model(t_u, w, b):\n",
        "  return w * t_u + b\n",
        "\n",
        "def loss_fn(t_p, t_c):\n",
        "   squared_loss = (t_p - t_c)**2\n",
        "   return squared_loss.mean()\n",
        "\n",
        "w = torch.ones(())\n",
        "b = torch.zeros(())\n",
        "t_p =  model(t_u, w, b)\n",
        "t_p\n",
        "\n"
      ],
      "metadata": {
        "colab": {
          "base_uri": "https://localhost:8080/"
        },
        "id": "pjzRnVoBtEvh",
        "outputId": "48c9f621-70d9-4e47-a082-b23cca7d96b0"
      },
      "execution_count": 60,
      "outputs": [
        {
          "output_type": "execute_result",
          "data": {
            "text/plain": [
              "tensor([35.7000, 55.9000, 58.2000, 81.9000, 56.3000, 48.9000, 33.9000, 21.8000,\n",
              "        48.4000, 60.4000, 68.4000])"
            ]
          },
          "metadata": {},
          "execution_count": 60
        }
      ]
    },
    {
      "cell_type": "code",
      "source": [
        "loss = loss_fn(t_p, t_c)\n",
        "loss"
      ],
      "metadata": {
        "colab": {
          "base_uri": "https://localhost:8080/"
        },
        "id": "VrENd6-YuvA_",
        "outputId": "812344fc-e0c1-4196-f9fc-ad5a0d376350"
      },
      "execution_count": 61,
      "outputs": [
        {
          "output_type": "execute_result",
          "data": {
            "text/plain": [
              "tensor(1763.8848)"
            ]
          },
          "metadata": {},
          "execution_count": 61
        }
      ]
    },
    {
      "cell_type": "code",
      "source": [
        "delta = 0.1\n",
        "loss_rate_of_change_w = (loss_fn(model(t_u, w + delta, b), t_c) - loss_fn(model(t_u, w- delta, b), t_c)) / (2.0 * delta)\n",
        "learning_rate = 1e-2\n",
        "w = w-learning_rate * loss_rate_of_change_w\n",
        "\n",
        "loss_rate_of_change_b = (loss_fn(model(t_u, w, b + delta), t_c)-loss_fn(model(t_u, w, b- delta), t_c)) / (2.0 * delta)\n",
        "b = b-learning_rate * loss_rate_of_change_b\n",
        "\n",
        "def dloss_fn(t_p, t_c):\n",
        " dsq_diffs = 2 * (t_p- t_c) / t_p.size(0)\n",
        " return dsq_diffs\n",
        "\n",
        "\n",
        "\n",
        "\n",
        "\n",
        "\n",
        "\n",
        "\n",
        "\n",
        "\n"
      ],
      "metadata": {
        "id": "O70NYJE6uxVe"
      },
      "execution_count": 62,
      "outputs": []
    },
    {
      "cell_type": "code",
      "source": [
        "  # In[12]:\n",
        "def dmodel_dw(t_u, w, b):\n",
        " return t_u\n",
        " # In[13]:\n",
        "def dmodel_db(t_u, w, b):\n",
        " return 1.0"
      ],
      "metadata": {
        "id": "z7LL2CSIzPVK"
      },
      "execution_count": 53,
      "outputs": []
    },
    {
      "cell_type": "code",
      "source": [
        "def grad_fn(t_u, t_c, t_p, w, b):\n",
        " dloss_dtp = dloss_fn(t_p, t_c)\n",
        " dloss_dw = dloss_dtp * dmodel_dw(t_u, w, b)\n",
        " dloss_db = dloss_dtp * dmodel_db(t_u, w, b)\n",
        " return torch.stack([dloss_dw.sum(), dloss_db.sum()])"
      ],
      "metadata": {
        "id": "jr8gysG6zRQ5"
      },
      "execution_count": 63,
      "outputs": []
    },
    {
      "cell_type": "code",
      "source": [
        "def training_loop(n_epochs, learning_rate, params, t_u, t_c):\n",
        " for epoch in range(1, n_epochs + 1):\n",
        "  w, b = params\n",
        "  t_p = model(t_u, w, b)\n",
        "  loss = loss_fn(t_p, t_c)\n",
        "  grad = grad_fn(t_u, t_c, t_p, w, b)\n",
        "  params = params- learning_rate * grad\n",
        "  print('Epoch %d, Loss %f' % (epoch, float(loss)))\n",
        " return params"
      ],
      "metadata": {
        "id": "iGGJF5btzXcb"
      },
      "execution_count": 64,
      "outputs": []
    },
    {
      "cell_type": "code",
      "source": [
        " training_loop(\n",
        " n_epochs = 100,\n",
        " learning_rate = 1e-4,\n",
        " params = torch.tensor([1.0, 0.0]),\n",
        " t_u = t_u,\n",
        " t_c = t_c)"
      ],
      "metadata": {
        "colab": {
          "base_uri": "https://localhost:8080/"
        },
        "collapsed": true,
        "id": "9m5bdzVXzZxC",
        "outputId": "db8a8293-f068-4b2d-8450-0b096fe30669"
      },
      "execution_count": 68,
      "outputs": [
        {
          "output_type": "stream",
          "name": "stdout",
          "text": [
            "Epoch 1, Loss 1763.884766\n",
            "Epoch 2, Loss 323.090515\n",
            "Epoch 3, Loss 78.929634\n",
            "Epoch 4, Loss 37.552845\n",
            "Epoch 5, Loss 30.540283\n",
            "Epoch 6, Loss 29.351154\n",
            "Epoch 7, Loss 29.148884\n",
            "Epoch 8, Loss 29.113848\n",
            "Epoch 9, Loss 29.107145\n",
            "Epoch 10, Loss 29.105247\n",
            "Epoch 11, Loss 29.104168\n",
            "Epoch 12, Loss 29.103222\n",
            "Epoch 13, Loss 29.102295\n",
            "Epoch 14, Loss 29.101379\n",
            "Epoch 15, Loss 29.100466\n",
            "Epoch 16, Loss 29.099548\n",
            "Epoch 17, Loss 29.098631\n",
            "Epoch 18, Loss 29.097717\n",
            "Epoch 19, Loss 29.096796\n",
            "Epoch 20, Loss 29.095881\n",
            "Epoch 21, Loss 29.094959\n",
            "Epoch 22, Loss 29.094049\n",
            "Epoch 23, Loss 29.093134\n",
            "Epoch 24, Loss 29.092216\n",
            "Epoch 25, Loss 29.091301\n",
            "Epoch 26, Loss 29.090385\n",
            "Epoch 27, Loss 29.089464\n",
            "Epoch 28, Loss 29.088551\n",
            "Epoch 29, Loss 29.087635\n",
            "Epoch 30, Loss 29.086714\n",
            "Epoch 31, Loss 29.085804\n",
            "Epoch 32, Loss 29.084888\n",
            "Epoch 33, Loss 29.083967\n",
            "Epoch 34, Loss 29.083057\n",
            "Epoch 35, Loss 29.082142\n",
            "Epoch 36, Loss 29.081221\n",
            "Epoch 37, Loss 29.080309\n",
            "Epoch 38, Loss 29.079390\n",
            "Epoch 39, Loss 29.078474\n",
            "Epoch 40, Loss 29.077562\n",
            "Epoch 41, Loss 29.076649\n",
            "Epoch 42, Loss 29.075731\n",
            "Epoch 43, Loss 29.074812\n",
            "Epoch 44, Loss 29.073895\n",
            "Epoch 45, Loss 29.072981\n",
            "Epoch 46, Loss 29.072069\n",
            "Epoch 47, Loss 29.071148\n",
            "Epoch 48, Loss 29.070234\n",
            "Epoch 49, Loss 29.069323\n",
            "Epoch 50, Loss 29.068401\n",
            "Epoch 51, Loss 29.067486\n",
            "Epoch 52, Loss 29.066566\n",
            "Epoch 53, Loss 29.065657\n",
            "Epoch 54, Loss 29.064741\n",
            "Epoch 55, Loss 29.063826\n",
            "Epoch 56, Loss 29.062910\n",
            "Epoch 57, Loss 29.061995\n",
            "Epoch 58, Loss 29.061079\n",
            "Epoch 59, Loss 29.060169\n",
            "Epoch 60, Loss 29.059248\n",
            "Epoch 61, Loss 29.058336\n",
            "Epoch 62, Loss 29.057415\n",
            "Epoch 63, Loss 29.056507\n",
            "Epoch 64, Loss 29.055586\n",
            "Epoch 65, Loss 29.054674\n",
            "Epoch 66, Loss 29.053761\n",
            "Epoch 67, Loss 29.052843\n",
            "Epoch 68, Loss 29.051929\n",
            "Epoch 69, Loss 29.051012\n",
            "Epoch 70, Loss 29.050098\n",
            "Epoch 71, Loss 29.049183\n",
            "Epoch 72, Loss 29.048273\n",
            "Epoch 73, Loss 29.047350\n",
            "Epoch 74, Loss 29.046442\n",
            "Epoch 75, Loss 29.045530\n",
            "Epoch 76, Loss 29.044611\n",
            "Epoch 77, Loss 29.043699\n",
            "Epoch 78, Loss 29.042784\n",
            "Epoch 79, Loss 29.041870\n",
            "Epoch 80, Loss 29.040955\n",
            "Epoch 81, Loss 29.040039\n",
            "Epoch 82, Loss 29.039122\n",
            "Epoch 83, Loss 29.038210\n",
            "Epoch 84, Loss 29.037294\n",
            "Epoch 85, Loss 29.036379\n",
            "Epoch 86, Loss 29.035463\n",
            "Epoch 87, Loss 29.034554\n",
            "Epoch 88, Loss 29.033636\n",
            "Epoch 89, Loss 29.032722\n",
            "Epoch 90, Loss 29.031811\n",
            "Epoch 91, Loss 29.030895\n",
            "Epoch 92, Loss 29.029976\n",
            "Epoch 93, Loss 29.029066\n",
            "Epoch 94, Loss 29.028151\n",
            "Epoch 95, Loss 29.027235\n",
            "Epoch 96, Loss 29.026323\n",
            "Epoch 97, Loss 29.025410\n",
            "Epoch 98, Loss 29.024492\n",
            "Epoch 99, Loss 29.023582\n",
            "Epoch 100, Loss 29.022667\n"
          ]
        },
        {
          "output_type": "execute_result",
          "data": {
            "text/plain": [
              "tensor([ 0.2327, -0.0438])"
            ]
          },
          "metadata": {},
          "execution_count": 68
        }
      ]
    },
    {
      "cell_type": "code",
      "source": [],
      "metadata": {
        "id": "LwPqRJv-z-gg"
      },
      "execution_count": null,
      "outputs": []
    }
  ]
}